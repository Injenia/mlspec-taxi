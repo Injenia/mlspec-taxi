{
 "cells": [
  {
   "cell_type": "code",
   "execution_count": 1,
   "id": "81be52d4",
   "metadata": {},
   "outputs": [],
   "source": [
    "import pandas as pd"
   ]
  },
  {
   "cell_type": "code",
   "execution_count": 4,
   "id": "d8871b83",
   "metadata": {},
   "outputs": [
    {
     "data": {
      "text/html": [
       "<div>\n",
       "<style scoped>\n",
       "    .dataframe tbody tr th:only-of-type {\n",
       "        vertical-align: middle;\n",
       "    }\n",
       "\n",
       "    .dataframe tbody tr th {\n",
       "        vertical-align: top;\n",
       "    }\n",
       "\n",
       "    .dataframe thead th {\n",
       "        text-align: right;\n",
       "    }\n",
       "</style>\n",
       "<table border=\"1\" class=\"dataframe\">\n",
       "  <thead>\n",
       "    <tr style=\"text-align: right;\">\n",
       "      <th></th>\n",
       "      <th>min_dropoff_latitude</th>\n",
       "      <th>min_pickup_latitude</th>\n",
       "      <th>min_dropoff_longitude</th>\n",
       "      <th>min_pickup_longitude</th>\n",
       "      <th>max_dropoff_latitude</th>\n",
       "      <th>max_pickup_latitude</th>\n",
       "      <th>max_dropoff_longitude</th>\n",
       "      <th>max_pickup_longitude</th>\n",
       "    </tr>\n",
       "  </thead>\n",
       "  <tbody>\n",
       "    <tr>\n",
       "      <th>0</th>\n",
       "      <td>41.66376</td>\n",
       "      <td>41.650222</td>\n",
       "      <td>-87.90304</td>\n",
       "      <td>-87.90304</td>\n",
       "      <td>42.021224</td>\n",
       "      <td>42.021224</td>\n",
       "      <td>-87.531386</td>\n",
       "      <td>-87.54701</td>\n",
       "    </tr>\n",
       "  </tbody>\n",
       "</table>\n",
       "</div>"
      ],
      "text/plain": [
       "   min_dropoff_latitude  min_pickup_latitude  min_dropoff_longitude  \\\n",
       "0              41.66376            41.650222              -87.90304   \n",
       "\n",
       "   min_pickup_longitude  max_dropoff_latitude  max_pickup_latitude  \\\n",
       "0             -87.90304             42.021224            42.021224   \n",
       "\n",
       "   max_dropoff_longitude  max_pickup_longitude  \n",
       "0             -87.531386             -87.54701  "
      ]
     },
     "execution_count": 4,
     "metadata": {},
     "output_type": "execute_result"
    }
   ],
   "source": [
    "df=pd.read_gbq(f\"\"\"\n",
    "     \n",
    "    SELECT \n",
    "    min(dropoff_latitude) as min_dropoff_latitude,\n",
    "    min(pickup_latitude) as min_pickup_latitude,\n",
    "    min(dropoff_longitude) as min_dropoff_longitude,\n",
    "    min(pickup_longitude) as min_pickup_longitude,\n",
    "    \n",
    "    max(dropoff_latitude) as max_dropoff_latitude,\n",
    "    max(pickup_latitude) as max_pickup_latitude,\n",
    "    max(dropoff_longitude) as max_dropoff_longitude,\n",
    "    max(pickup_longitude) as max_pickup_longitude\n",
    "    \n",
    "    FROM `bigquery-public-data.chicago_taxi_trips.taxi_trips`    \n",
    "    where \n",
    "    # reproducibility constraints\n",
    "            trip_start_timestamp <= TIMESTAMP(\"2021-03-01 00:00:00 UTC\")\n",
    "        AND trip_start_timestamp >= TIMESTAMP(\"2013-01-01 00:00:00 UTC\")\n",
    "\n",
    "        # label constraints\n",
    "        AND trip_seconds is not null\n",
    "        AND trip_seconds > 0\n",
    "        AND trip_total   is not null\n",
    "        AND trip_total   > 0\n",
    "\n",
    "        # feature nullability constraints\n",
    "        AND trip_miles             is not null\n",
    "        AND pickup_census_tract    is not null\n",
    "        AND dropoff_census_tract   is not null\n",
    "        AND pickup_community_area  is not null\n",
    "        AND dropoff_community_area is not null\n",
    "        AND company                is not null\n",
    "        AND pickup_latitude        is not null\n",
    "        AND pickup_longitude       is not null\n",
    "        AND dropoff_latitude       is not null\n",
    "        AND dropoff_longitude      is not null\n",
    "        AND EXTRACT(YEAR from trip_start_timestamp) >= 2017 \n",
    "        AND NOT (EXTRACT(YEAR from trip_start_timestamp) = 2018 AND EXTRACT(MONTH from trip_start_timestamp) > 3) #ONLY FIRST 3 MONTHS OF 2018 AS EVAL SET\n",
    "        and trip_miles   > 0 \n",
    "        AND trip_seconds > 0 \n",
    "        AND trip_total   > 0  \n",
    "        AND ABS(dropoff_latitude-pickup_latitude) + ABS(dropoff_longitude-pickup_longitude) > 0 # L1 distance\n",
    "    \n",
    "\"\"\")\n",
    "df"
   ]
  },
  {
   "cell_type": "code",
   "execution_count": null,
   "id": "384ddbd5",
   "metadata": {},
   "outputs": [],
   "source": [
    "# pickup_latitude   41.650222, 42.021224\n",
    "# pickup_longitude  -87.90304, -87.54701\n",
    "# dropoff_latitude   41.66376, 42.021224\n",
    "# dropoff_longitude -87.90304, -87.531386"
   ]
  }
 ],
 "metadata": {
  "environment": {
   "name": "tf2-gpu.2-3.m65",
   "type": "gcloud",
   "uri": "gcr.io/deeplearning-platform-release/tf2-gpu.2-3:m65"
  },
  "kernelspec": {
   "display_name": "Python 3",
   "language": "python",
   "name": "python3"
  },
  "language_info": {
   "codemirror_mode": {
    "name": "ipython",
    "version": 3
   },
   "file_extension": ".py",
   "mimetype": "text/x-python",
   "name": "python",
   "nbconvert_exporter": "python",
   "pygments_lexer": "ipython3",
   "version": "3.7.10"
  }
 },
 "nbformat": 4,
 "nbformat_minor": 5
}
