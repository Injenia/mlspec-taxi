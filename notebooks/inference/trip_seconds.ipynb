{
 "cells": [
  {
   "cell_type": "code",
   "execution_count": 1,
   "id": "a0d24095",
   "metadata": {},
   "outputs": [],
   "source": [
    "model_dir           = \"gs://mlteam-ml-specialization-2021-taxi/tft_flows/TaxiTS2017MinimalV01/models/20210521V02/1/export/1621856445/\"\n",
    "region              = \"europe-west1\"\n",
    "model_name          = \"taxi_trip_seconds\"\n",
    "model_version       = \"TaxiTS2017MinimalV01_20210521V02\"\n",
    "numeric_columns     = ['pickup_latitude','pickup_longitude','dropoff_latitude','dropoff_longitude']\n",
    "categorical_columns = []"
   ]
  },
  {
   "cell_type": "markdown",
   "id": "200daa6b",
   "metadata": {},
   "source": [
    "# [Optional] Setup"
   ]
  },
  {
   "cell_type": "code",
   "execution_count": 2,
   "id": "3a8665ff",
   "metadata": {},
   "outputs": [
    {
     "data": {
      "text/plain": [
       "287"
      ]
     },
     "execution_count": 2,
     "metadata": {},
     "output_type": "execute_result"
    }
   ],
   "source": [
    "config_file = \"../../deploy/trip_seconds/config.sh\"\n",
    "prev_config = open(config_file, \"r\").read()\n",
    "open(config_file, \"w\").write(f\"\"\"#!/bin/bash\n",
    "\n",
    "MODELDIR={model_dir}\n",
    "AI_PLATFORM_PREDICTION_REGION={region}\n",
    "AI_PLATFORM_PREDICTION_MODEL={model_name}\n",
    "AI_PLATFORM_PREDICTION_VERSION={model_version}\n",
    "\"\"\")"
   ]
  },
  {
   "cell_type": "code",
   "execution_count": 3,
   "id": "b7f348c1",
   "metadata": {},
   "outputs": [
    {
     "name": "stdout",
     "output_type": "stream",
     "text": [
      "Using endpoint [https://europe-west1-ml.googleapis.com/]\n",
      "Created ai platform model [projects/mlteam-ml-specialization-2021/models/taxi_trip_seconds].\n",
      "Using endpoint [https://europe-west1-ml.googleapis.com/]\n",
      "Creating version (this might take a few minutes)......done.                    \n"
     ]
    }
   ],
   "source": [
    "!bash ../../deploy/trip_seconds/setup.sh"
   ]
  },
  {
   "cell_type": "markdown",
   "id": "20ae0c1a",
   "metadata": {},
   "source": [
    "# invocation"
   ]
  },
  {
   "cell_type": "code",
   "execution_count": 4,
   "id": "639234bd",
   "metadata": {},
   "outputs": [],
   "source": [
    "import json\n",
    "import os\n",
    "\n",
    "\n",
    "instance=dict(list(zip(numeric_columns,[0 for _ in numeric_columns]))+list(zip(categorical_columns, [\"\" for _ in categorical_columns])))\n",
    "if \"trip_start\" in instance:\n",
    "    instance[\"trip_start\"] = \"2017-03-03 Fry-09:00\"\n",
    "\n",
    "os.environ[\"ENDPOINT\"]=F\"https://{region}-ml.googleapis.com/v1/projects/mlteam-ml-specialization-2021/models/{model_name}:predict\"\n",
    "os.environ[\"REQUEST_BODY\"]=json.dumps({\n",
    "    \"instances\": [instance],\n",
    "    'signature_name': 'predict'\n",
    "})"
   ]
  },
  {
   "cell_type": "code",
   "execution_count": 5,
   "id": "24e1c232",
   "metadata": {},
   "outputs": [
    {
     "name": "stdout",
     "output_type": "stream",
     "text": [
      "{\n",
      "    \"predictions\": [[415.634583]\n",
      "    ]\n",
      "}"
     ]
    }
   ],
   "source": [
    "!curl -d \"${REQUEST_BODY}\" -X POST ${ENDPOINT}?access_token\\=\"$(gcloud auth application-default print-access-token)\""
   ]
  },
  {
   "cell_type": "markdown",
   "id": "86b67e66",
   "metadata": {},
   "source": [
    "# [Optional] Teardown"
   ]
  },
  {
   "cell_type": "code",
   "execution_count": 6,
   "id": "7c92b7fc",
   "metadata": {},
   "outputs": [
    {
     "name": "stdout",
     "output_type": "stream",
     "text": [
      "Using endpoint [https://europe-west1-ml.googleapis.com/]\n",
      "Deleting version [TaxiTS2017MinimalV01_20210521V02]......done.                 \n",
      "Using endpoint [https://europe-west1-ml.googleapis.com/]\n",
      "Deleting model [taxi_trip_seconds]...done.                                     \n"
     ]
    }
   ],
   "source": [
    "!bash ../../deploy/trip_seconds/teardown.sh"
   ]
  },
  {
   "cell_type": "code",
   "execution_count": 7,
   "id": "65b64aba",
   "metadata": {},
   "outputs": [
    {
     "data": {
      "text/plain": [
       "286"
      ]
     },
     "execution_count": 7,
     "metadata": {},
     "output_type": "execute_result"
    }
   ],
   "source": [
    "open(config_file, \"w\").write(prev_config)"
   ]
  },
  {
   "cell_type": "code",
   "execution_count": null,
   "id": "fc47ce21",
   "metadata": {},
   "outputs": [],
   "source": []
  }
 ],
 "metadata": {
  "environment": {
   "name": "tf2-gpu.2-3.m65",
   "type": "gcloud",
   "uri": "gcr.io/deeplearning-platform-release/tf2-gpu.2-3:m65"
  },
  "kernelspec": {
   "display_name": "Python 3",
   "language": "python",
   "name": "python3"
  },
  "language_info": {
   "codemirror_mode": {
    "name": "ipython",
    "version": 3
   },
   "file_extension": ".py",
   "mimetype": "text/x-python",
   "name": "python",
   "nbconvert_exporter": "python",
   "pygments_lexer": "ipython3",
   "version": "3.7.10"
  }
 },
 "nbformat": 4,
 "nbformat_minor": 5
}
