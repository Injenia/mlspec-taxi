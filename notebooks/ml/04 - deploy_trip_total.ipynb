{
 "cells": [
  {
   "cell_type": "code",
   "execution_count": 1,
   "id": "d5caa298",
   "metadata": {},
   "outputs": [],
   "source": [
    "import os, sys\n",
    "sys.path.append( os.path.join('..','..','src','mlspec_flow') )\n",
    "\n",
    "from utils.paths import saved_model_dir"
   ]
  },
  {
   "cell_type": "code",
   "execution_count": 15,
   "id": "3e980610",
   "metadata": {},
   "outputs": [],
   "source": [
    "flow_dir   = \"TaxiTT2017PosTimeCompanyV01\"\n",
    "model_name = \"20210521\"\n",
    "numeric_columns     = ['pickup_latitude',\n",
    "                       'pickup_longitude',\n",
    "                       'dropoff_latitude',\n",
    "                       'dropoff_longitude']\n",
    "categorical_columns = ['trip_start', # [technical] this is in categorical because its TF placeholder for serving must be of type string\n",
    "                       'company']\n",
    "label=\"trip_total\"\n",
    "os.environ[\"MODEL_PATH\"] = saved_model_dir(flow_dir,model_name)"
   ]
  },
  {
   "cell_type": "code",
   "execution_count": 36,
   "id": "1f32ebf8",
   "metadata": {},
   "outputs": [
    {
     "data": {
      "text/plain": [
       "'gs://mlteam-ml-specialization-2021-taxi/tft_flows/TaxiTT2017PosTimeCompanyV01/models/20210521/1/export/1621855172/'"
      ]
     },
     "execution_count": 36,
     "metadata": {},
     "output_type": "execute_result"
    }
   ],
   "source": [
    "os.environ[\"MODEL_PATH\"]"
   ]
  },
  {
   "cell_type": "code",
   "execution_count": 10,
   "id": "d0d04bcf",
   "metadata": {},
   "outputs": [],
   "source": [
    "import json\n",
    "\n",
    "json_path = \"req.json\"\n",
    "instance=dict(list(zip(numeric_columns,[0 for _ in numeric_columns]))+list(zip(categorical_columns, [\"\" for _ in categorical_columns])))\n",
    "if \"trip_start\" in instance:\n",
    "    instance[\"trip_start\"] = \"2017-03-03 Fry-09:00\"\n",
    "# %Y-%m-%d %a-%H:%M\n",
    "json.dump(\n",
    "    {\"instances\":[instance]},\n",
    "    open(json_path,\"w\")\n",
    ")\n",
    "os.environ[\"JSON_PATH\"]  = json_path"
   ]
  },
  {
   "cell_type": "code",
   "execution_count": 11,
   "id": "9c863476",
   "metadata": {},
   "outputs": [
    {
     "data": {
      "text/plain": [
       "{'pickup_latitude': 0,\n",
       " 'pickup_longitude': 0,\n",
       " 'dropoff_latitude': 0,\n",
       " 'dropoff_longitude': 0,\n",
       " 'trip_start': '2017-03-03 Fry-09:00',\n",
       " 'company': ''}"
      ]
     },
     "execution_count": 11,
     "metadata": {},
     "output_type": "execute_result"
    }
   ],
   "source": [
    "instance"
   ]
  },
  {
   "cell_type": "code",
   "execution_count": 13,
   "id": "fe9778d9",
   "metadata": {},
   "outputs": [
    {
     "name": "stdout",
     "output_type": "stream",
     "text": [
      "\u001b[1;33mWARNING:\u001b[0m 2021-06-17 12:49:19.561019: I tensorflow/stream_executor/platform/default/dso_loader.cc:49] Successfully opened dynamic library libcudart.so.11.0\n",
      "WARNING:tensorflow:From /opt/conda/lib/python3.7/site-packages/tensorflow/python/compat/v2_compat.py:96: disable_resource_variables (from tensorflow.python.ops.variable_scope) is deprecated and will be removed in a future version.\n",
      "Instructions for updating:\n",
      "non-resource variables are not supported in the long term\n",
      "2021-06-17 12:49:21.717319: I tensorflow/compiler/jit/xla_cpu_device.cc:41] Not creating XLA devices, tf_xla_enable_xla_devices not set\n",
      "2021-06-17 12:49:21.717671: W tensorflow/stream_executor/platform/default/dso_loader.cc:60] Could not load dynamic library 'libcuda.so.1'; dlerror: libcuda.so.1: cannot open shared object file: No such file or directory; LD_LIBRARY_PATH: /usr/local/cuda/lib64:/usr/local/nccl2/lib:/usr/local/cuda/extras/CUPTI/lib64\n",
      "2021-06-17 12:49:21.717701: W tensorflow/stream_executor/cuda/cuda_driver.cc:326] failed call to cuInit: UNKNOWN ERROR (303)\n",
      "2021-06-17 12:49:21.717728: I tensorflow/stream_executor/cuda/cuda_diagnostics.cc:156] kernel driver does not appear to be running on this host (mirco-nani-dev-spd): /proc/driver/nvidia/version does not exist\n",
      "2021-06-17 12:49:21.718204: I tensorflow/compiler/jit/xla_gpu_device.cc:99] Not creating XLA devices, tf_xla_enable_xla_devices not set\n",
      "WARNING:tensorflow:From /usr/lib/google-cloud-sdk/lib/third_party/ml_sdk/cloud/ml/prediction/frameworks/tf_prediction_lib.py:236: load (from tensorflow.python.saved_model.loader_impl) is deprecated and will be removed in a future version.\n",
      "Instructions for updating:\n",
      "This function will only be available through the v1 compatibility library as tf.compat.v1.saved_model.loader.load or tf.compat.v1.saved_model.load. There will be a new function for importing SavedModels in Tensorflow 2.0.\n",
      "WARNING:tensorflow:From /usr/lib/google-cloud-sdk/lib/third_party/ml_sdk/cloud/ml/prediction/frameworks/tf_prediction_lib.py:236: load (from tensorflow.python.saved_model.loader_impl) is deprecated and will be removed in a future version.\n",
      "Instructions for updating:\n",
      "This function will only be available through the v1 compatibility library as tf.compat.v1.saved_model.loader.load or tf.compat.v1.saved_model.load. There will be a new function for importing SavedModels in Tensorflow 2.0.\n",
      "2021-06-17 12:49:22.200026: I tensorflow/compiler/mlir/mlir_graph_optimization_pass.cc:196] None of the MLIR optimization passes are enabled (registered 0 passes)\n",
      "2021-06-17 12:49:22.248224: I tensorflow/core/platform/profile_utils/cpu_utils.cc:112] CPU Frequency: 2299995000 Hz\n",
      "\n",
      "PREDICTIONS\n",
      "[18.664518356323242]\n"
     ]
    }
   ],
   "source": [
    "!gcloud ai-platform local predict --model-dir=\"${MODEL_PATH}\" --json-request=\"${JSON_PATH}\" --framework=tensorflow --signature-name=\"predict\""
   ]
  },
  {
   "cell_type": "markdown",
   "id": "4ecca87e",
   "metadata": {},
   "source": [
    "# Setup"
   ]
  },
  {
   "cell_type": "code",
   "execution_count": 23,
   "id": "e442bd9f",
   "metadata": {},
   "outputs": [],
   "source": [
    "os.environ[\"AI_PLATFORM_PREDICTION_MODEL\"]   = f\"taxi{label}\"\n",
    "os.environ[\"AI_PLATFORM_PREDICTION_REGION\"]  = \"europe-west1\"\n",
    "os.environ[\"AI_PLATFORM_PREDICTION_VERSION\"] = f\"{flow_dir}_{model_name}\""
   ]
  },
  {
   "cell_type": "code",
   "execution_count": 18,
   "id": "64068fcc",
   "metadata": {},
   "outputs": [
    {
     "name": "stdout",
     "output_type": "stream",
     "text": [
      "Using endpoint [https://europe-west1-ml.googleapis.com/]\n",
      "Created ai platform model [projects/mlteam-ml-specialization-2021/models/taxitrip_total].\n"
     ]
    }
   ],
   "source": [
    "!gcloud ai-platform models create ${AI_PLATFORM_PREDICTION_MODEL} --region=${AI_PLATFORM_PREDICTION_REGION}  --enable-logging"
   ]
  },
  {
   "cell_type": "code",
   "execution_count": 30,
   "id": "f6ff45fe",
   "metadata": {},
   "outputs": [
    {
     "name": "stdout",
     "output_type": "stream",
     "text": [
      "Using endpoint [https://europe-west1-ml.googleapis.com/]\n",
      "Creating version (this might take a few minutes)......done.                    \n"
     ]
    }
   ],
   "source": [
    "!gcloud ai-platform versions create ${AI_PLATFORM_PREDICTION_VERSION} \\\n",
    "--region=${AI_PLATFORM_PREDICTION_REGION} \\\n",
    "--model=${AI_PLATFORM_PREDICTION_MODEL} \\\n",
    "--origin=${MODEL_PATH} \\\n",
    "--runtime-version=2.4"
   ]
  },
  {
   "cell_type": "code",
   "execution_count": 37,
   "id": "0b585fdf",
   "metadata": {},
   "outputs": [
    {
     "data": {
      "text/plain": [
       "'TaxiTT2017PosTimeCompanyV01_20210521'"
      ]
     },
     "execution_count": 37,
     "metadata": {},
     "output_type": "execute_result"
    }
   ],
   "source": [
    "os.environ[\"AI_PLATFORM_PREDICTION_VERSION\"]"
   ]
  },
  {
   "cell_type": "code",
   "execution_count": 31,
   "id": "8383e1cb",
   "metadata": {},
   "outputs": [],
   "source": [
    "import json\n",
    "import os\n",
    "\n",
    "\n",
    "instance=dict(list(zip(numeric_columns,[0 for _ in numeric_columns]))+list(zip(categorical_columns, [\"\" for _ in categorical_columns])))\n",
    "if \"trip_start\" in instance:\n",
    "    instance[\"trip_start\"] = \"2017-03-03 Fry-09:00\"\n",
    "model_name=os.environ[\"AI_PLATFORM_PREDICTION_MODEL\"]\n",
    "region=os.environ[\"AI_PLATFORM_PREDICTION_REGION\"]\n",
    "\n",
    "os.environ[\"ENDPOINT\"]=F\"https://{region}-ml.googleapis.com/v1/projects/mlteam-ml-specialization-2021/models/{model_name}:predict\"\n",
    "# https://stackoverflow.com/questions/58134103/tf-how-do-i-setup-the-model-signature-correctly-for-serving-with-docker\n",
    "os.environ[\"REQUEST_BODY\"]=json.dumps({\n",
    "    \"instances\": [instance],\n",
    "    'signature_name': 'predict'\n",
    "})"
   ]
  },
  {
   "cell_type": "code",
   "execution_count": 38,
   "id": "2ab2d54c",
   "metadata": {},
   "outputs": [
    {
     "data": {
      "text/plain": [
       "'{\"instances\": [{\"pickup_latitude\": 0, \"pickup_longitude\": 0, \"dropoff_latitude\": 0, \"dropoff_longitude\": 0, \"trip_start\": \"2017-03-03 Fry-09:00\", \"company\": \"\"}], \"signature_name\": \"predict\"}'"
      ]
     },
     "execution_count": 38,
     "metadata": {},
     "output_type": "execute_result"
    }
   ],
   "source": [
    "os.environ[\"REQUEST_BODY\"]"
   ]
  },
  {
   "cell_type": "code",
   "execution_count": 32,
   "id": "2d82418a",
   "metadata": {},
   "outputs": [
    {
     "name": "stdout",
     "output_type": "stream",
     "text": [
      "{\n",
      "    \"predictions\": [[18.6645203]\n",
      "    ]\n",
      "}"
     ]
    }
   ],
   "source": [
    "!curl -d \"${REQUEST_BODY}\" -X POST ${ENDPOINT}?access_token\\=\"$(gcloud auth application-default print-access-token)\""
   ]
  },
  {
   "cell_type": "markdown",
   "id": "ad6f9336",
   "metadata": {},
   "source": [
    "# teardown"
   ]
  },
  {
   "cell_type": "code",
   "execution_count": 33,
   "id": "394152b1",
   "metadata": {},
   "outputs": [
    {
     "name": "stdout",
     "output_type": "stream",
     "text": [
      "Using endpoint [https://europe-west1-ml.googleapis.com/]\n",
      "Deleting version [TaxiTT2017PosTimeCompanyV01_20210521]......done.             \n"
     ]
    }
   ],
   "source": [
    "! gcloud ai-platform versions delete ${AI_PLATFORM_PREDICTION_VERSION} --model=${AI_PLATFORM_PREDICTION_MODEL} --region=${AI_PLATFORM_PREDICTION_REGION} --quiet"
   ]
  },
  {
   "cell_type": "code",
   "execution_count": 35,
   "id": "cbef70dc",
   "metadata": {},
   "outputs": [
    {
     "name": "stdout",
     "output_type": "stream",
     "text": [
      "Using endpoint [https://europe-west1-ml.googleapis.com/]\n",
      "Deleting model [taxitrip_total]...done.                                        \n"
     ]
    }
   ],
   "source": [
    "! gcloud ai-platform models delete ${AI_PLATFORM_PREDICTION_MODEL} --region=${AI_PLATFORM_PREDICTION_REGION} --quiet"
   ]
  },
  {
   "cell_type": "code",
   "execution_count": null,
   "id": "3b9d5821",
   "metadata": {},
   "outputs": [],
   "source": []
  }
 ],
 "metadata": {
  "environment": {
   "name": "tf2-gpu.2-3.m65",
   "type": "gcloud",
   "uri": "gcr.io/deeplearning-platform-release/tf2-gpu.2-3:m65"
  },
  "kernelspec": {
   "display_name": "Python 3",
   "language": "python",
   "name": "python3"
  },
  "language_info": {
   "codemirror_mode": {
    "name": "ipython",
    "version": 3
   },
   "file_extension": ".py",
   "mimetype": "text/x-python",
   "name": "python",
   "nbconvert_exporter": "python",
   "pygments_lexer": "ipython3",
   "version": "3.7.10"
  }
 },
 "nbformat": 4,
 "nbformat_minor": 5
}
