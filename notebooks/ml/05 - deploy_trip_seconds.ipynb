{
 "cells": [
  {
   "cell_type": "code",
   "execution_count": 1,
   "id": "bb33950c",
   "metadata": {},
   "outputs": [],
   "source": [
    "import os, sys\n",
    "sys.path.append( os.path.join('..','..','src','mlspec_flow') )\n",
    "\n",
    "from utils.paths import saved_model_dir"
   ]
  },
  {
   "cell_type": "code",
   "execution_count": 2,
   "id": "764cdefa",
   "metadata": {},
   "outputs": [],
   "source": [
    "flow_dir   = \"TaxiTS2017MinimalV01\"\n",
    "model_name = \"20210521V02\"\n",
    "numeric_columns     = ['pickup_latitude',\n",
    "                       'pickup_longitude',\n",
    "                       'dropoff_latitude',\n",
    "                       'dropoff_longitude']\n",
    "categorical_columns = []\n",
    "label=\"trip_seconds\"\n",
    "os.environ[\"MODEL_PATH\"] = saved_model_dir(flow_dir,model_name)"
   ]
  },
  {
   "cell_type": "code",
   "execution_count": 3,
   "id": "e12dc767",
   "metadata": {},
   "outputs": [
    {
     "data": {
      "text/plain": [
       "'gs://mlteam-ml-specialization-2021-taxi/tft_flows/TaxiTS2017MinimalV01/models/20210521V02/1/export/1621856445/'"
      ]
     },
     "execution_count": 3,
     "metadata": {},
     "output_type": "execute_result"
    }
   ],
   "source": [
    "os.environ[\"MODEL_PATH\"]"
   ]
  },
  {
   "cell_type": "code",
   "execution_count": 4,
   "id": "04d86d6b",
   "metadata": {},
   "outputs": [],
   "source": [
    "import json\n",
    "\n",
    "json_path = \"req.json\"\n",
    "instance=dict(list(zip(numeric_columns,[0 for _ in numeric_columns]))+list(zip(categorical_columns, [\"\" for _ in categorical_columns])))\n",
    "if \"trip_start\" in instance:\n",
    "    instance[\"trip_start\"] = \"2017-03-03 Fry-09:00\"\n",
    "# %Y-%m-%d %a-%H:%M\n",
    "json.dump(\n",
    "    {\"instances\":[instance]},\n",
    "    open(json_path,\"w\")\n",
    ")\n",
    "os.environ[\"JSON_PATH\"]  = json_path"
   ]
  },
  {
   "cell_type": "code",
   "execution_count": 5,
   "id": "d1398229",
   "metadata": {},
   "outputs": [
    {
     "data": {
      "text/plain": [
       "{'pickup_latitude': 0,\n",
       " 'pickup_longitude': 0,\n",
       " 'dropoff_latitude': 0,\n",
       " 'dropoff_longitude': 0}"
      ]
     },
     "execution_count": 5,
     "metadata": {},
     "output_type": "execute_result"
    }
   ],
   "source": [
    "instance"
   ]
  },
  {
   "cell_type": "code",
   "execution_count": 6,
   "id": "723f360e",
   "metadata": {},
   "outputs": [
    {
     "name": "stdout",
     "output_type": "stream",
     "text": [
      "\u001b[1;33mWARNING:\u001b[0m 2021-06-17 15:24:26.508384: I tensorflow/stream_executor/platform/default/dso_loader.cc:49] Successfully opened dynamic library libcudart.so.11.0\n",
      "WARNING:tensorflow:From /opt/conda/lib/python3.7/site-packages/tensorflow/python/compat/v2_compat.py:96: disable_resource_variables (from tensorflow.python.ops.variable_scope) is deprecated and will be removed in a future version.\n",
      "Instructions for updating:\n",
      "non-resource variables are not supported in the long term\n",
      "2021-06-17 15:24:28.816262: I tensorflow/compiler/jit/xla_cpu_device.cc:41] Not creating XLA devices, tf_xla_enable_xla_devices not set\n",
      "2021-06-17 15:24:28.816630: W tensorflow/stream_executor/platform/default/dso_loader.cc:60] Could not load dynamic library 'libcuda.so.1'; dlerror: libcuda.so.1: cannot open shared object file: No such file or directory; LD_LIBRARY_PATH: /usr/local/cuda/lib64:/usr/local/nccl2/lib:/usr/local/cuda/extras/CUPTI/lib64\n",
      "2021-06-17 15:24:28.816656: W tensorflow/stream_executor/cuda/cuda_driver.cc:326] failed call to cuInit: UNKNOWN ERROR (303)\n",
      "2021-06-17 15:24:28.816694: I tensorflow/stream_executor/cuda/cuda_diagnostics.cc:156] kernel driver does not appear to be running on this host (mirco-nani-dev-spd): /proc/driver/nvidia/version does not exist\n",
      "2021-06-17 15:24:28.817687: I tensorflow/compiler/jit/xla_gpu_device.cc:99] Not creating XLA devices, tf_xla_enable_xla_devices not set\n",
      "WARNING:tensorflow:From /usr/lib/google-cloud-sdk/lib/third_party/ml_sdk/cloud/ml/prediction/frameworks/tf_prediction_lib.py:236: load (from tensorflow.python.saved_model.loader_impl) is deprecated and will be removed in a future version.\n",
      "Instructions for updating:\n",
      "This function will only be available through the v1 compatibility library as tf.compat.v1.saved_model.loader.load or tf.compat.v1.saved_model.load. There will be a new function for importing SavedModels in Tensorflow 2.0.\n",
      "WARNING:tensorflow:From /usr/lib/google-cloud-sdk/lib/third_party/ml_sdk/cloud/ml/prediction/frameworks/tf_prediction_lib.py:236: load (from tensorflow.python.saved_model.loader_impl) is deprecated and will be removed in a future version.\n",
      "Instructions for updating:\n",
      "This function will only be available through the v1 compatibility library as tf.compat.v1.saved_model.loader.load or tf.compat.v1.saved_model.load. There will be a new function for importing SavedModels in Tensorflow 2.0.\n",
      "2021-06-17 15:24:29.023344: I tensorflow/compiler/mlir/mlir_graph_optimization_pass.cc:196] None of the MLIR optimization passes are enabled (registered 0 passes)\n",
      "2021-06-17 15:24:29.030208: I tensorflow/core/platform/profile_utils/cpu_utils.cc:112] CPU Frequency: 2299995000 Hz\n",
      "\n",
      "PREDICTIONS\n",
      "[415.63458251953125]\n"
     ]
    }
   ],
   "source": [
    "!gcloud ai-platform local predict --model-dir=\"${MODEL_PATH}\" --json-request=\"${JSON_PATH}\" --framework=tensorflow --signature-name=\"predict\""
   ]
  },
  {
   "cell_type": "markdown",
   "id": "3ae8bf60",
   "metadata": {},
   "source": [
    "# Setup"
   ]
  },
  {
   "cell_type": "code",
   "execution_count": 7,
   "id": "d680fab2",
   "metadata": {},
   "outputs": [],
   "source": [
    "os.environ[\"AI_PLATFORM_PREDICTION_MODEL\"]   = f\"taxi{label}\"\n",
    "os.environ[\"AI_PLATFORM_PREDICTION_REGION\"]  = \"europe-west1\"\n",
    "os.environ[\"AI_PLATFORM_PREDICTION_VERSION\"] = f\"{flow_dir}_{model_name}\""
   ]
  },
  {
   "cell_type": "code",
   "execution_count": 8,
   "id": "bd909f6a",
   "metadata": {},
   "outputs": [
    {
     "name": "stdout",
     "output_type": "stream",
     "text": [
      "Using endpoint [https://europe-west1-ml.googleapis.com/]\n",
      "Created ai platform model [projects/mlteam-ml-specialization-2021/models/taxitrip_seconds].\n"
     ]
    }
   ],
   "source": [
    "!gcloud ai-platform models create ${AI_PLATFORM_PREDICTION_MODEL} --region=${AI_PLATFORM_PREDICTION_REGION}  --enable-logging"
   ]
  },
  {
   "cell_type": "code",
   "execution_count": 9,
   "id": "34d02f93",
   "metadata": {},
   "outputs": [
    {
     "name": "stdout",
     "output_type": "stream",
     "text": [
      "Using endpoint [https://europe-west1-ml.googleapis.com/]\n",
      "Creating version (this might take a few minutes)......done.                    \n"
     ]
    }
   ],
   "source": [
    "!gcloud ai-platform versions create ${AI_PLATFORM_PREDICTION_VERSION} \\\n",
    "--region=${AI_PLATFORM_PREDICTION_REGION} \\\n",
    "--model=${AI_PLATFORM_PREDICTION_MODEL} \\\n",
    "--origin=${MODEL_PATH} \\\n",
    "--runtime-version=2.4"
   ]
  },
  {
   "cell_type": "code",
   "execution_count": 10,
   "id": "ae1fc873",
   "metadata": {},
   "outputs": [
    {
     "data": {
      "text/plain": [
       "'TaxiTS2017MinimalV01_20210521V02'"
      ]
     },
     "execution_count": 10,
     "metadata": {},
     "output_type": "execute_result"
    }
   ],
   "source": [
    "os.environ[\"AI_PLATFORM_PREDICTION_VERSION\"]"
   ]
  },
  {
   "cell_type": "code",
   "execution_count": 11,
   "id": "82191343",
   "metadata": {},
   "outputs": [],
   "source": [
    "import json\n",
    "import os\n",
    "\n",
    "\n",
    "instance=dict(list(zip(numeric_columns,[0 for _ in numeric_columns]))+list(zip(categorical_columns, [\"\" for _ in categorical_columns])))\n",
    "if \"trip_start\" in instance:\n",
    "    instance[\"trip_start\"] = \"2017-03-03 Fry-09:00\"\n",
    "model_name=os.environ[\"AI_PLATFORM_PREDICTION_MODEL\"]\n",
    "region=os.environ[\"AI_PLATFORM_PREDICTION_REGION\"]\n",
    "\n",
    "os.environ[\"ENDPOINT\"]=F\"https://{region}-ml.googleapis.com/v1/projects/mlteam-ml-specialization-2021/models/{model_name}:predict\"\n",
    "# https://stackoverflow.com/questions/58134103/tf-how-do-i-setup-the-model-signature-correctly-for-serving-with-docker\n",
    "os.environ[\"REQUEST_BODY\"]=json.dumps({\n",
    "    \"instances\": [instance],\n",
    "    'signature_name': 'predict'\n",
    "})"
   ]
  },
  {
   "cell_type": "code",
   "execution_count": 12,
   "id": "1c6d2b10",
   "metadata": {},
   "outputs": [
    {
     "data": {
      "text/plain": [
       "'{\"instances\": [{\"pickup_latitude\": 0, \"pickup_longitude\": 0, \"dropoff_latitude\": 0, \"dropoff_longitude\": 0}], \"signature_name\": \"predict\"}'"
      ]
     },
     "execution_count": 12,
     "metadata": {},
     "output_type": "execute_result"
    }
   ],
   "source": [
    "os.environ[\"REQUEST_BODY\"]"
   ]
  },
  {
   "cell_type": "code",
   "execution_count": 13,
   "id": "0a3dbae2",
   "metadata": {},
   "outputs": [
    {
     "name": "stdout",
     "output_type": "stream",
     "text": [
      "{\n",
      "    \"predictions\": [[415.634583]\n",
      "    ]\n",
      "}"
     ]
    }
   ],
   "source": [
    "!curl -d \"${REQUEST_BODY}\" -X POST ${ENDPOINT}?access_token\\=\"$(gcloud auth application-default print-access-token)\""
   ]
  },
  {
   "cell_type": "markdown",
   "id": "21214357",
   "metadata": {},
   "source": [
    "# teardown"
   ]
  },
  {
   "cell_type": "code",
   "execution_count": 14,
   "id": "cd3dd1ae",
   "metadata": {},
   "outputs": [
    {
     "name": "stdout",
     "output_type": "stream",
     "text": [
      "Using endpoint [https://europe-west1-ml.googleapis.com/]\n",
      "Deleting version [TaxiTS2017MinimalV01_20210521V02]......done.                 \n"
     ]
    }
   ],
   "source": [
    "! gcloud ai-platform versions delete ${AI_PLATFORM_PREDICTION_VERSION} --model=${AI_PLATFORM_PREDICTION_MODEL} --region=${AI_PLATFORM_PREDICTION_REGION} --quiet"
   ]
  },
  {
   "cell_type": "code",
   "execution_count": 15,
   "id": "21c8ab2e",
   "metadata": {},
   "outputs": [
    {
     "name": "stdout",
     "output_type": "stream",
     "text": [
      "Using endpoint [https://europe-west1-ml.googleapis.com/]\n",
      "Deleting model [taxitrip_seconds]...done.                                      \n"
     ]
    }
   ],
   "source": [
    "! gcloud ai-platform models delete ${AI_PLATFORM_PREDICTION_MODEL} --region=${AI_PLATFORM_PREDICTION_REGION} --quiet"
   ]
  },
  {
   "cell_type": "code",
   "execution_count": null,
   "id": "901c3263",
   "metadata": {},
   "outputs": [],
   "source": []
  }
 ],
 "metadata": {
  "environment": {
   "name": "tf2-gpu.2-3.m65",
   "type": "gcloud",
   "uri": "gcr.io/deeplearning-platform-release/tf2-gpu.2-3:m65"
  },
  "kernelspec": {
   "display_name": "Python 3",
   "language": "python",
   "name": "python3"
  },
  "language_info": {
   "codemirror_mode": {
    "name": "ipython",
    "version": 3
   },
   "file_extension": ".py",
   "mimetype": "text/x-python",
   "name": "python",
   "nbconvert_exporter": "python",
   "pygments_lexer": "ipython3",
   "version": "3.7.10"
  }
 },
 "nbformat": 4,
 "nbformat_minor": 5
}
